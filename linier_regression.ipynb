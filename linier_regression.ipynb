{
 "cells": [
  {
   "cell_type": "code",
   "execution_count": 1,
   "metadata": {},
   "outputs": [],
   "source": [
    "import numpy as np\n",
    "import matplotlib.pyplot as plt\n",
    "from IPython.display import clear_output\n",
    "import scipy.io as sio\n",
    "import scipy.optimize as opt"
   ]
  },
  {
   "cell_type": "markdown",
   "metadata": {},
   "source": [
    "![Alt text](static/img/linier_reg.png )"
   ]
  },
  {
   "cell_type": "code",
   "execution_count": 2,
   "metadata": {},
   "outputs": [],
   "source": [
    "def hypothesis_fn(θ, X):\n",
    "    \"\"\"\n",
    "    Calculate the prediction vector of linear regression.\n",
    "    \n",
    "    Parameters\n",
    "    ----------\n",
    "    θ : array_like\n",
    "        The parameters for linear regression with shape (n + 1 x 1).\n",
    "    X : array_like\n",
    "        The set of features with shape (m x n + 1) with bias term.\n",
    "        \n",
    "    Returns\n",
    "    -------\n",
    "    h : array_like\n",
    "        The prediction of linear regression with shape (m x 1).\n",
    "    \"\"\"\n",
    "    return X @ θ"
   ]
  },
  {
   "cell_type": "markdown",
   "metadata": {},
   "source": [
    "![Alt text](static/img/logic_reg_const_func_with_regularization.png )"
   ]
  },
  {
   "cell_type": "code",
   "execution_count": 288,
   "metadata": {},
   "outputs": [],
   "source": [
    "def squared_error_cost_func(θ, X, y, λ=0.0):\n",
    "    \"\"\"\n",
    "    Calculate the error of linear regression.\n",
    "    \n",
    "    Parameters\n",
    "    ----------\n",
    "    θ : array_like\n",
    "        The parameters for linear regression with shape (n + 1 x 1).\n",
    "    X : array_like\n",
    "        The set of features with shape (m x n + 1) with bias term.\n",
    "    y : array_like\n",
    "        The lables for set of features X with shape (m x 1).\n",
    "    λ : float, optional\n",
    "        The regularization parameter.\n",
    "        \n",
    "    Returns\n",
    "    -------\n",
    "    error : float\n",
    "        The error of linear regression.\n",
    "    \"\"\"\n",
    "    θ = θ.reshape((X.shape[1], 1))\n",
    "    m = X.shape[0]\n",
    "    h = hypothesis_fn(θ, X)\n",
    "    error = (1 / (2 * m)) * np.power((h - y), 2).sum() + (λ / (2 * m)) * np.power(θ[1:], 2).sum()\n",
    "    return error"
   ]
  },
  {
   "cell_type": "markdown",
   "metadata": {},
   "source": [
    "![Alt text](static/img/gradient_descent.png )"
   ]
  },
  {
   "cell_type": "code",
   "execution_count": 191,
   "metadata": {},
   "outputs": [],
   "source": [
    "def gradient(θ, X, y, λ=0.0):\n",
    "    \"\"\"\n",
    "    Calculate gradient for linear regression.\n",
    "    \n",
    "    Parameters\n",
    "    ----------\n",
    "    θ : array_like\n",
    "        The parameters for linear regression with shape (n + 1 x 1).\n",
    "    X : array_like\n",
    "        The set of features with shape (m x n + 1) with bias term.\n",
    "    y : array_like\n",
    "        The lables for set of features X with shape (m x 1).\n",
    "    λ : float, optional\n",
    "        The regularization parameter.\n",
    "        \n",
    "    Returns\n",
    "    -------\n",
    "    grad : array_like\n",
    "        The gradient of linear regression with shape equel to θ,\n",
    "    \"\"\"\n",
    "\n",
    "    θ = θ.reshape((X.shape[1], 1))\n",
    "    grad = np.zeros(θ.shape)\n",
    "    m = X.shape[0]\n",
    "    h = hypothesis_fn(θ, X)\n",
    "    grad = (1 / m) * X.T @ (h - y)\n",
    "    grad[1:] = grad[1:] + (λ / (2 * m)) * (θ[1:].T @ θ[1:]) \n",
    "    return grad"
   ]
  },
  {
   "cell_type": "code",
   "execution_count": 202,
   "metadata": {},
   "outputs": [],
   "source": [
    "def normalize(X):\n",
    "    \"\"\"\n",
    "    Normalizes the features in X returns a normalized version of X where the mean value of each\n",
    "    feature is 0 and the standard deviation is 1. This is often a good preprocessing step to do when\n",
    "    working with learning algorithms.\n",
    "    Parameters\n",
    "    ----------\n",
    "    X : array_like\n",
    "        An dataset which is a (m x n) matrix, where m is the number of examples,\n",
    "        and n is the number of dimensions for each example.\n",
    "    Returns\n",
    "    -------\n",
    "    X_norm : array_like\n",
    "        The normalized input dataset.\n",
    "    mu : array_like\n",
    "        A vector of size n corresponding to the mean for each dimension across all examples.\n",
    "    sigma : array_like\n",
    "        A vector of size n corresponding to the standard deviations for each dimension across\n",
    "        all examples.\n",
    "    \"\"\"\n",
    "    mu = np.mean(X, axis=0)\n",
    "    X_norm = X - mu\n",
    "\n",
    "    sigma = np.std(X_norm, axis=0, ddof=1)\n",
    "    X_norm /= sigma\n",
    "    return X_norm, mu, sigma"
   ]
  },
  {
   "cell_type": "markdown",
   "metadata": {},
   "source": [
    "## Data preparation"
   ]
  },
  {
   "cell_type": "code",
   "execution_count": 136,
   "metadata": {},
   "outputs": [],
   "source": [
    "raw_data = sio.loadmat('static/datasets/dam/ex5data1.mat')"
   ]
  },
  {
   "cell_type": "code",
   "execution_count": 235,
   "metadata": {},
   "outputs": [],
   "source": [
    "X_train, y_train = raw_data['X'], raw_data['y']\n",
    "X_train = np.concatenate((np.ones((X_train.shape[0], 1)), X_train), axis=1)\n",
    "\n",
    "X_test, y_test = raw_data['Xtest'], raw_data['ytest']\n",
    "X_test = np.concatenate((np.ones((X_test.shape[0], 1)), X_test), axis=1)\n",
    "\n",
    "X_val, y_val = raw_data['Xval'], raw_data['yval']\n",
    "X_val = np.concatenate((np.ones((X_val.shape[0], 1)), X_val), axis=1)"
   ]
  },
  {
   "cell_type": "markdown",
   "metadata": {},
   "source": [
    "## Training"
   ]
  },
  {
   "cell_type": "markdown",
   "metadata": {},
   "source": [
    "#### Gradient Descent "
   ]
  },
  {
   "cell_type": "code",
   "execution_count": 145,
   "metadata": {},
   "outputs": [
    {
     "data": {
      "image/png": "[encoded data removed]",
      "text/plain": [
       "<Figure size 432x288 with 1 Axes>"
      ]
     },
     "metadata": {
      "needs_background": "light"
     },
     "output_type": "display_data"
    },
    {
     "name": "stdout",
     "output_type": "stream",
     "text": [
      "[[13.08716276]\n",
      " [ 0.36777479]]\n"
     ]
    }
   ],
   "source": [
    "# gradient descent\n",
    "cost_per_iteration = {}\n",
    "learning_rate = .001\n",
    "Theta = np.ones((2,1))\n",
    "for i in range(10000):\n",
    "    Theta = Theta - learning_rate * gradient(Theta, X_train, y_train, 0)\n",
    "    cost = squared_error_cost_func(Theta, X_train, y_train, 0)\n",
    "    cost_per_iteration[i] = cost\n",
    "plt.plot(cost_per_iteration.values(), cost_per_iteration.keys())\n",
    "plt.title('Cost per iteration')\n",
    "plt.show()\n",
    "print(Theta)"
   ]
  },
  {
   "cell_type": "markdown",
   "metadata": {},
   "source": [
    "#### Advanced optimization algorithms"
   ]
  },
  {
   "cell_type": "code",
   "execution_count": 268,
   "metadata": {},
   "outputs": [
    {
     "name": "stdout",
     "output_type": "stream",
     "text": [
      "     fun: 22.373906495108912\n",
      "     jac: array([[3.51091822e-10],\n",
      "       [6.03746590e-08]])\n",
      " message: 'Local minimum reached (|pg| ~= 0)'\n",
      "    nfev: 9\n",
      "     nit: 4\n",
      "  status: 0\n",
      " success: True\n",
      "       x: array([13.08790351,  0.36777923])\n"
     ]
    }
   ],
   "source": [
    "from scipy import optimize\n",
    "\n",
    "def fit(X, y, λ=0, Theta=None):\n",
    "    Theta = Theta or np.zeros(X.shape[1])\n",
    "#     options = {'maxiter': 55}\n",
    "    opt = optimize.minimize(\n",
    "        squared_error_cost_func, \n",
    "        Theta, \n",
    "        jac=gradient, \n",
    "        args = (X, y, λ), \n",
    "        method='TNC')\n",
    "    print(opt)\n",
    "    return opt.x\n",
    "\n",
    "Theta = fit(X_train, y_train)"
   ]
  },
  {
   "cell_type": "code",
   "execution_count": 156,
   "metadata": {},
   "outputs": [
    {
     "data": {
      "image/png": "[encoded data removed]",
      "text/plain": [
       "<Figure size 432x288 with 1 Axes>"
      ]
     },
     "metadata": {
      "needs_background": "light"
     },
     "output_type": "display_data"
    }
   ],
   "source": [
    "plt.plot(X_train[:,1:], y_train, 'x', color='red')\n",
    "plt.xlabel('Change in water level (x)')\n",
    "plt.ylabel('Water flowing out of the dam (y)')\n",
    "plt.plot(X_train[:,1:], hypothesis_fn(Theta, X_train));"
   ]
  },
  {
   "cell_type": "markdown",
   "metadata": {},
   "source": [
    "#### Learning Curve"
   ]
  },
  {
   "cell_type": "code",
   "execution_count": 293,
   "metadata": {},
   "outputs": [],
   "source": [
    "def learning_curve(X, y, X_val, y_val):\n",
    "    '''\n",
    "    A learning curve plots\n",
    "    training and cross validation error as a function of training set size\n",
    "    '''\n",
    "    error_train = {}\n",
    "    error_val = {}\n",
    "    for i in range(1, X.shape[0] + 1):\n",
    "        params = fit(X[:i, :], y[:i])\n",
    "        error_train[i] = squared_error_cost_func(params, X[:i], y[:i], 0)\n",
    "        error_val[i] = squared_error_cost_func(params, X_val, y_val, 0)\n",
    "    clear_output()\n",
    "    return error_train, error_val\n"
   ]
  },
  {
   "cell_type": "code",
   "execution_count": 294,
   "metadata": {},
   "outputs": [],
   "source": [
    "def plot_learing_curve(error_train, error_val):\n",
    "    plt.plot(error_train.keys(), error_train.values())\n",
    "    plt.plot(error_val.keys(), error_val.values(), color='green')\n",
    "    plt.legend(['Train', 'Cross Validation'])\n",
    "    plt.xlabel('Number of training examples')\n",
    "    plt.ylabel('Error')\n",
    "    plt.title('Learning curve')"
   ]
  },
  {
   "cell_type": "code",
   "execution_count": 295,
   "metadata": {},
   "outputs": [
    {
     "data": {
      "image/png": "[encoded data removed]",
      "text/plain": [
       "<Figure size 432x288 with 1 Axes>"
      ]
     },
     "metadata": {
      "needs_background": "light"
     },
     "output_type": "display_data"
    }
   ],
   "source": [
    "error_train, error_val = learning_curve(X_train, y_train, X_val, y_val)\n",
    "plot_learing_curve(error_train, error_val)"
   ]
  },
  {
   "cell_type": "markdown",
   "metadata": {},
   "source": [
    "In the learning curve figure, you can observe that both the train error and cross validation error are high when the number of training examples is increased. This reflects a high bias problem in the model - the linear regression model is too simple and is unable to fit our dataset well. "
   ]
  },
  {
   "cell_type": "code",
   "execution_count": 397,
   "metadata": {},
   "outputs": [],
   "source": [
    "def poly_features(X, p):\n",
    "    X_poly = np.zeros((X.shape[0], p))\n",
    "\n",
    "    for i in range(p):\n",
    "        X_poly[:, i] = X[:, 0] ** (i + 1)\n",
    "    return X_poly\n",
    "\n",
    "p = 3\n",
    "X_train_poly = poly_features(X_train[:, [1]], p)\n",
    "X_train_poly, mu, sigma = normalize(X_train_poly)\n",
    "X_train_poly = np.concatenate((np.ones((X_train_poly.shape[0], 1)), X_train_poly), axis=1)\n",
    "\n",
    "X_test_poly = poly_features(X_test[:, [1]], p)\n",
    "X_test_poly -= mu\n",
    "X_test_poly /= sigma\n",
    "X_test_poly = np.concatenate((np.ones((X_test_poly.shape[0], 1)), X_test_poly), axis=1)\n",
    "\n",
    "X_val_poly = poly_features(X_val[:, [1]], p)\n",
    "X_val_poly -= mu\n",
    "X_val_poly /= sigma\n",
    "X_val_poly = np.concatenate((np.ones((X_val_poly.shape[0], 1)), X_val_poly), axis=1)"
   ]
  },
  {
   "cell_type": "code",
   "execution_count": 400,
   "metadata": {},
   "outputs": [
    {
     "name": "stdout",
     "output_type": "stream",
     "text": [
      "     fun: 5.929730955928782\n",
      "     jac: array([[ 0.19866946],\n",
      "       [-0.26108914],\n",
      "       [ 0.34180613],\n",
      "       [ 0.28607362]])\n",
      " message: 'Linear search failed'\n",
      "    nfev: 91\n",
      "     nit: 3\n",
      "  status: 4\n",
      " success: False\n",
      "       x: array([11.41625878,  8.75452341,  5.70360164,  2.83844147])\n"
     ]
    }
   ],
   "source": [
    "Theta_poly = fit(X_train_poly, y_train, .3)"
   ]
  },
  {
   "cell_type": "code",
   "execution_count": 401,
   "metadata": {},
   "outputs": [
    {
     "data": {
      "image/png": "[encoded data removed]",
      "text/plain": [
       "<Figure size 432x288 with 1 Axes>"
      ]
     },
     "metadata": {
      "needs_background": "light"
     },
     "output_type": "display_data"
    }
   ],
   "source": [
    "plt.plot(X_train[:,1:], y_train, 'x', color='red')\n",
    "plt.xlabel('Change in water level (x)')\n",
    "plt.ylabel('Water flowing out of the dam (y)')\n",
    "plt.plot(X_train[:,1:], hypothesis_fn(Theta_poly, X_train_poly), 'o');"
   ]
  },
  {
   "cell_type": "code",
   "execution_count": 396,
   "metadata": {},
   "outputs": [
    {
     "data": {
      "image/png": "[encoded data removed]",
      "text/plain": [
       "<Figure size 432x288 with 1 Axes>"
      ]
     },
     "metadata": {
      "needs_background": "light"
     },
     "output_type": "display_data"
    }
   ],
   "source": [
    "error_train_poly, error_val_poly = learning_curve(X_train_poly, y_train, X_val_poly, y_val)\n",
    "plot_learing_curve(error_train_poly, error_val_poly)"
   ]
  },
  {
   "cell_type": "code",
   "execution_count": 369,
   "metadata": {},
   "outputs": [],
   "source": [
    "lambda_vec = [0, 0.001, 0.003, 0.01, 0.03, 0.1, 0.3, 1, 3, 10]\n",
    "\n",
    "\n",
    "error_train = np.zeros(len(lambda_vec))\n",
    "error_val = np.zeros(len(lambda_vec))\n",
    "\n",
    "# ====================== YOUR CODE HERE ======================\n",
    "\n",
    "for i in range(len(lambda_vec)):\n",
    "    lambda_try = lambda_vec[i]\n",
    "    Theta = fit(X_train_poly, y_train, lambda_try)\n",
    "    error_train[i] = squared_error_cost_func(Theta, X_train_poly, y_train, 0)\n",
    "    error_val[i] = squared_error_cost_func(Theta, X_val_poly, y_val, 0)\n",
    "\n",
    "\n",
    "\n",
    "\n",
    "# train_error = []\n",
    "# val_error = []\n",
    "# for l in lambdas:\n",
    "#     print(l)\n",
    "#     Theta = fit(X_train_poly, y_train, l)\n",
    "#     train_error.append(squared_error_cost_func(Theta, X_train_poly, y_train, 0))\n",
    "#     val_error.append(squared_error_cost_func(Theta, X_val_poly, y_val, 0))\n",
    "clear_output()"
   ]
  },
  {
   "cell_type": "code",
   "execution_count": 370,
   "metadata": {},
   "outputs": [
    {
     "data": {
      "text/plain": [
       "[<matplotlib.lines.Line2D at 0x1daafaa3a00>]"
      ]
     },
     "execution_count": 370,
     "metadata": {},
     "output_type": "execute_result"
    },
    {
     "data": {
      "image/png": "[encoded data removed]",
      "text/plain": [
       "<Figure size 432x288 with 1 Axes>"
      ]
     },
     "metadata": {
      "needs_background": "light"
     },
     "output_type": "display_data"
    }
   ],
   "source": [
    "plt.plot(lambda_vec, error_train, '-o')\n",
    "plt.plot(lambda_vec, error_val, '-o')"
   ]
  }
 ],
 "metadata": {
  "kernelspec": {
   "display_name": "twitter_sentiment",
   "language": "python",
   "name": "twitter_sentiment"
  },
  "language_info": {
   "codemirror_mode": {
    "name": "ipython",
    "version": 3
   },
   "file_extension": ".py",
   "mimetype": "text/x-python",
   "name": "python",
   "nbconvert_exporter": "python",
   "pygments_lexer": "ipython3",
   "version": "3.8.5"
  }
 },
 "nbformat": 4,
 "nbformat_minor": 4
}
