{
 "cells": [
  {
   "cell_type": "code",
   "execution_count": 20,
   "metadata": {},
   "outputs": [],
   "source": [
    "import numpy as np\n",
    "import matplotlib.pyplot as plt\n",
    "from IPython.display import clear_output"
   ]
  },
  {
   "cell_type": "markdown",
   "metadata": {},
   "source": [
    "![Alt text](static/img/linier_reg.png )"
   ]
  },
  {
   "cell_type": "code",
   "execution_count": 1,
   "metadata": {},
   "outputs": [],
   "source": [
    "def hypothesis_fn(θ, X):\n",
    "    \"\"\"\n",
    "         θ - [θ0, θ1, ..., θn] parameters\n",
    "         x - feature matrix (x0 - should be 1 due to: hθ(x) = θ0 + θ1X1 + θ2X2 + ... + θnXn)\n",
    "    \"\"\"\n",
    "    return  X @ θ"
   ]
  },
  {
   "cell_type": "markdown",
   "metadata": {},
   "source": [
    "![Alt text](static/img/gradient_descent.png )"
   ]
  },
  {
   "cell_type": "code",
   "execution_count": 3,
   "metadata": {},
   "outputs": [],
   "source": [
    "def gradient_descent(θ, α, X, y, m, n):\n",
    "    \"\"\"\n",
    "         θ - [θ0, θ1, ..., θn] parameters\n",
    "         α - learing rate\n",
    "         x - features matrics (xi0 - should be 1 due to: hθ(x) = θ0 + θ1X1 + θ2X2 + ... + θnXn)\n",
    "         y - lables\n",
    "         m - the number of training examples\n",
    "         n - the number of features\n",
    "    \"\"\"\n",
    "    params_vector = np.empty(shape=[n, 1])\n",
    "    for j in range(0, n):\n",
    "        derivative_sum = (hypothesis_fn(θ, X) - y) @ np.transpose(X[:, [j]]).sum()\n",
    "        params_vector[j] = θ[j] - (α * 1 / m) * derivative_sum\n",
    "    return params_vector"
   ]
  },
  {
   "cell_type": "markdown",
   "metadata": {},
   "source": [
    "![Alt text](static/img/normal_equation.png )"
   ]
  },
  {
   "cell_type": "code",
   "execution_count": 4,
   "metadata": {},
   "outputs": [],
   "source": [
    "from numpy.linalg import inv\n",
    "\n",
    "def normal_equation(X, y):\n",
    "    \"\"\"\n",
    "         X - features matrics (xi0 - should be 1 due to: hθ(x) = θ0 + θ1X1 + θ2X2 + ... + θnXn)\n",
    "         y - lables\n",
    "    \"\"\"\n",
    "    XT = np.transpose(X)\n",
    "    return inv(XT @ X) @ XT @ y "
   ]
  },
  {
   "cell_type": "markdown",
   "metadata": {},
   "source": [
    "![Alt text](static/img/squared_error_cost_func.png )"
   ]
  },
  {
   "cell_type": "code",
   "execution_count": 95,
   "metadata": {},
   "outputs": [],
   "source": [
    "def squared_error_cost_func(θ, x, y, m):\n",
    "    \"\"\"\n",
    "        We can measure the accuracy of our hypothesis function by using a cost function. \n",
    "         x - features matrics (xi0 - should be 1 due to: hθ(x) = θ0 + θ1X1 + θ2X2 + ... + θnXn)\n",
    "         y - lables\n",
    "         θ - parameters\n",
    "         m - the number of training examples\n",
    "        returns:\n",
    "            accuracy of hypothesis fn\n",
    "    \"\"\"\n",
    "    accuracy = (1 / (2 * m)) * (np.array([hypothesis_fn(θ, xi) for xi in x]) - y).sum()\n",
    "    return accuracy"
   ]
  },
  {
   "cell_type": "markdown",
   "metadata": {},
   "source": [
    "## Wine Quality Data Set\n"
   ]
  },
  {
   "cell_type": "markdown",
   "metadata": {
    "jupyter": {
     "source_hidden": true
    }
   },
   "source": [
    "Citation Request:\n",
    "  This dataset is public available for research. The details are described in [Cortez et al., 2009]. \n",
    "  Please include this citation if you plan to use this database:\n",
    "\n",
    "  P. Cortez, A. Cerdeira, F. Almeida, T. Matos and J. Reis. \n",
    "  Modeling wine preferences by data mining from physicochemical properties.\n",
    "  In Decision Support Systems, Elsevier, 47(4):547-553. ISSN: 0167-9236.\n",
    "\n",
    "  Available at: [@Elsevier] http://dx.doi.org/10.1016/j.dss.2009.05.016\n",
    "                [Pre-press (pdf)] http://www3.dsi.uminho.pt/pcortez/winequality09.pdf\n",
    "                [bib] http://www3.dsi.uminho.pt/pcortez/dss09.bib\n",
    "\n",
    "1. Title: Wine Quality \n",
    "\n",
    "2. Sources\n",
    "   Created by: Paulo Cortez (Univ. Minho), Antonio Cerdeira, Fernando Almeida, Telmo Matos and Jose Reis (CVRVV) @ 2009\n",
    "   \n",
    "3. Past Usage:\n",
    "\n",
    "  P. Cortez, A. Cerdeira, F. Almeida, T. Matos and J. Reis. \n",
    "  Modeling wine preferences by data mining from physicochemical properties.\n",
    "  In Decision Support Systems, Elsevier, 47(4):547-553. ISSN: 0167-9236.\n",
    "\n",
    "  In the above reference, two datasets were created, using red and white wine samples.\n",
    "  The inputs include objective tests (e.g. PH values) and the output is based on sensory data\n",
    "  (median of at least 3 evaluations made by wine experts). Each expert graded the wine quality \n",
    "  between 0 (very bad) and 10 (very excellent). Several data mining methods were applied to model\n",
    "  these datasets under a regression approach. The support vector machine model achieved the\n",
    "  best results. Several metrics were computed: MAD, confusion matrix for a fixed error tolerance (T),\n",
    "  etc. Also, we plot the relative importances of the input variables (as measured by a sensitivity\n",
    "  analysis procedure).\n",
    " \n",
    "4. Relevant Information:\n",
    "\n",
    "   The two datasets are related to red and white variants of the Portuguese \"Vinho Verde\" wine.\n",
    "   For more details, consult: http://www.vinhoverde.pt/en/ or the reference [Cortez et al., 2009].\n",
    "   Due to privacy and logistic issues, only physicochemical (inputs) and sensory (the output) variables \n",
    "   are available (e.g. there is no data about grape types, wine brand, wine selling price, etc.).\n",
    "\n",
    "   These datasets can be viewed as classification or regression tasks.\n",
    "   The classes are ordered and not balanced (e.g. there are munch more normal wines than\n",
    "   excellent or poor ones). Outlier detection algorithms could be used to detect the few excellent\n",
    "   or poor wines. Also, we are not sure if all input variables are relevant. So\n",
    "   it could be interesting to test feature selection methods. \n",
    "\n",
    "5. Number of Instances: red wine - 1599; white wine - 4898. \n",
    "\n",
    "6. Number of Attributes: 11 + output attribute\n",
    "  \n",
    "   Note: several of the attributes may be correlated, thus it makes sense to apply some sort of\n",
    "   feature selection.\n",
    "\n",
    "7. Attribute information:\n",
    "\n",
    "   For more information, read [Cortez et al., 2009].\n",
    "\n",
    "   Input variables (based on physicochemical tests):\n",
    "   1 - fixed acidity\n",
    "   2 - volatile acidity\n",
    "   3 - citric acid\n",
    "   4 - residual sugar\n",
    "   5 - chlorides\n",
    "   6 - free sulfur dioxide\n",
    "   7 - total sulfur dioxide\n",
    "   8 - density\n",
    "   9 - pH\n",
    "   10 - sulphates\n",
    "   11 - alcohol\n",
    "   Output variable (based on sensory data): \n",
    "   12 - quality (score between 0 and 10)\n",
    "\n",
    "8. Missing Attribute Values: None\n"
   ]
  },
  {
   "cell_type": "code",
   "execution_count": 107,
   "metadata": {},
   "outputs": [],
   "source": [
    "import pandas as pd"
   ]
  },
  {
   "cell_type": "code",
   "execution_count": 116,
   "metadata": {},
   "outputs": [],
   "source": [
    "df = pd.read_csv('./static/datasets/wine-quality/winequality-red.csv', delimiter=';')\n",
    "count = df.shape[0]"
   ]
  },
  {
   "cell_type": "code",
   "execution_count": 129,
   "metadata": {},
   "outputs": [
    {
     "data": {
      "text/plain": [
       "(400, 13)"
      ]
     },
     "execution_count": 129,
     "metadata": {},
     "output_type": "execute_result"
    }
   ],
   "source": [
    "test_X.shape"
   ]
  },
  {
   "cell_type": "code",
   "execution_count": 117,
   "metadata": {},
   "outputs": [],
   "source": [
    "X = df\n",
    "X.insert(0,'ones',1)\n",
    "X = X.to_numpy()\n",
    "y = df.pop('quality').to_numpy().reshape((y.shape[0], 1))"
   ]
  },
  {
   "cell_type": "code",
   "execution_count": 124,
   "metadata": {},
   "outputs": [],
   "source": [
    "train_set_count = int(count * .75)\n",
    "\n",
    "train_X, test_X = np.split(X, [int(X.shape[0] * .75)])\n",
    "train_y, test_y = np.split(y, [int(y.shape[0] * .75)])"
   ]
  },
  {
   "cell_type": "code",
   "execution_count": 130,
   "metadata": {},
   "outputs": [],
   "source": [
    "# normal_equation\n",
    "θ = normal_equation(train_X, train_y)"
   ]
  },
  {
   "cell_type": "code",
   "execution_count": 351,
   "metadata": {
    "collapsed": true,
    "jupyter": {
     "outputs_hidden": true
    }
   },
   "outputs": [
    {
     "data": {
      "text/plain": [
       "array([[ 4.84287055e-10],\n",
       "       [ 9.73190278e-13],\n",
       "       [-5.32260000e-12],\n",
       "       [-9.59163304e-12],\n",
       "       [-5.19541007e-14],\n",
       "       [ 2.50248544e-10],\n",
       "       [ 5.96795833e-14],\n",
       "       [-1.92739704e-14],\n",
       "       [-3.28197025e-10],\n",
       "       [-5.88273874e-12],\n",
       "       [ 8.00318145e-13],\n",
       "       [ 2.19893548e-14],\n",
       "       [ 1.00000000e+00]])"
      ]
     },
     "execution_count": 351,
     "metadata": {},
     "output_type": "execute_result"
    }
   ],
   "source": [
    "cost = squared_error_cost_func(θ, test_X, test_y, test_y.shape[0])"
   ]
  },
  {
   "cell_type": "code",
   "execution_count": 348,
   "metadata": {},
   "outputs": [
    {
     "name": "stdout",
     "output_type": "stream",
     "text": [
      "-0.56856\n",
      "-0.48829\n",
      "-0.41794\n",
      "-0.35631\n",
      "-0.30229\n",
      "-0.25496\n",
      "-0.21349\n",
      "-0.17715\n",
      "-0.1453\n",
      "-0.1174\n",
      "-0.09294\n",
      "-0.07151\n",
      "-0.05274\n",
      "-0.03628\n",
      "-0.02187\n",
      "-0.00923\n",
      "0.00184\n",
      "0.01154\n",
      "0.02004\n",
      "0.02749\n"
     ]
    }
   ],
   "source": [
    "# gradient descent\n",
    "α = .0001\n",
    "train_gd_X = train_X[:, 1:]\n",
    "m = train_gd_X.shape[0]\n",
    "# train_gd_X = (train_gd_X - train_gd_X.mean()) / (train_gd_X.max() - train_gd_X.min())\n",
    "train_gd_X = train_gd_X / train_gd_X.max()\n",
    "train_gd_X = np.concatenate((np.ones((m, 1)), train_gd_X), axis=1) \n",
    "train_gd_y = train_y\n",
    "n = train_gd_X.shape[1]\n",
    "gd_θ = np.ones((n, 1))\n",
    "\n",
    "test_gd_X = test_X[:, 1:]\n",
    "# test_gd_X = (test_gd_X - test_gd_X.mean()) / (test_gd_X.max() - test_gd_X.min())\n",
    "test_gd_X = (test_gd_X) / (test_gd_X.max())\n",
    "test_gd_X = np.concatenate((np.ones((test_gd_X.shape[0], 1)), test_gd_X), axis=1) \n",
    "test_gd_y = test_y\n",
    "cost_arr = np.empty([0, 2])\n",
    "\n",
    "for i in range(0, 20):\n",
    "    gd_θ = gradient_descent(gd_θ, α, train_gd_X, train_gd_y, m, n)\n",
    "    cost = squared_error_cost_func(gd_θ, test_gd_X, test_gd_y, m)\n",
    "    print(np.round(cost, 5))\n",
    "    cost_arr = np.append(cost_arr, np.array([[i, cost]]), axis=0)"
   ]
  },
  {
   "cell_type": "code",
   "execution_count": 349,
   "metadata": {},
   "outputs": [
    {
     "data": {
      "text/plain": [
       "[<matplotlib.lines.Line2D at 0x1eaa01a5910>]"
      ]
     },
     "execution_count": 349,
     "metadata": {},
     "output_type": "execute_result"
    },
    {
     "data": {
      "image/png": "[encoded data removed]",
      "text/plain": [
       "<Figure size 432x288 with 1 Axes>"
      ]
     },
     "metadata": {
      "needs_background": "light"
     },
     "output_type": "display_data"
    }
   ],
   "source": [
    "plt.plot(cost_arr[:, 0],cost_arr[:, 1])"
   ]
  },
  {
   "cell_type": "code",
   "execution_count": 350,
   "metadata": {},
   "outputs": [
    {
     "data": {
      "text/plain": [
       "array([5.5750371])"
      ]
     },
     "execution_count": 350,
     "metadata": {},
     "output_type": "execute_result"
    }
   ],
   "source": [
    "hypothesis_fn(gd_θ, test_gd_X[60, :])"
   ]
  },
  {
   "cell_type": "code",
   "execution_count": 290,
   "metadata": {},
   "outputs": [
    {
     "data": {
      "text/plain": [
       "array([1.0000e+00, 4.6875e-02, 3.6250e-03, 1.8750e-04, 2.5625e-02,\n",
       "       5.0000e-04, 1.6875e-01, 2.8750e-01, 6.2245e-03, 1.8875e-02,\n",
       "       2.9375e-03, 5.7500e-02, 3.1250e-02])"
      ]
     },
     "execution_count": 290,
     "metadata": {},
     "output_type": "execute_result"
    }
   ],
   "source": [
    "test_gd_X[27, :]"
   ]
  },
  {
   "cell_type": "code",
   "execution_count": 302,
   "metadata": {},
   "outputs": [
    {
     "data": {
      "text/plain": [
       "array([5.])"
      ]
     },
     "execution_count": 302,
     "metadata": {},
     "output_type": "execute_result"
    }
   ],
   "source": [
    "hypothesis_fn(θ, test_X[139, :])"
   ]
  },
  {
   "cell_type": "code",
   "execution_count": 282,
   "metadata": {},
   "outputs": [
    {
     "data": {
      "text/plain": [
       "array([5], dtype=int64)"
      ]
     },
     "execution_count": 282,
     "metadata": {},
     "output_type": "execute_result"
    }
   ],
   "source": [
    "test_y[27, :]"
   ]
  }
 ],
 "metadata": {
  "kernelspec": {
   "display_name": "twitter_sentiment",
   "language": "python",
   "name": "twitter_sentiment"
  },
  "language_info": {
   "codemirror_mode": {
    "name": "ipython",
    "version": 3
   },
   "file_extension": ".py",
   "mimetype": "text/x-python",
   "name": "python",
   "nbconvert_exporter": "python",
   "pygments_lexer": "ipython3",
   "version": "3.8.5"
  }
 },
 "nbformat": 4,
 "nbformat_minor": 4
}
