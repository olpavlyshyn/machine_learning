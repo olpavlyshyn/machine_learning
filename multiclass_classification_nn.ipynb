{
 "cells": [
  {
   "cell_type": "code",
   "execution_count": 1,
   "metadata": {},
   "outputs": [],
   "source": [
    "import scipy.io as sio\n",
    "import numpy as np\n",
    "import matplotlib.pyplot as plt\n",
    "from IPython.display import clear_output\n",
    "from scipy.optimize import fmin_tnc\n",
    "import time"
   ]
  },
  {
   "cell_type": "markdown",
   "metadata": {},
   "source": [
    "### Cost Function with regularization"
   ]
  },
  {
   "cell_type": "markdown",
   "metadata": {},
   "source": [
    "![Alt text](static/img/logic_reg_const_func_with_regularization.png )"
   ]
  },
  {
   "cell_type": "markdown",
   "metadata": {},
   "source": [
    "### The partial derivative with regularization"
   ]
  },
  {
   "cell_type": "markdown",
   "metadata": {},
   "source": [
    "![Alt text](static/img/derivative_cost_func.png )"
   ]
  },
  {
   "cell_type": "code",
   "execution_count": 3,
   "metadata": {},
   "outputs": [],
   "source": [
    "def get_accuracy(y_predicted, y_actual):\n",
    "    return np.sum(y_predicted == y_actual) / y_actual.shape[0] "
   ]
  },
  {
   "cell_type": "code",
   "execution_count": 4,
   "metadata": {},
   "outputs": [],
   "source": [
    "class MultiClassLogisticRegression():\n",
    "    def __init__(self, classes, regularize = True ,α = 0.00001):\n",
    "        self.classes = classes\n",
    "        self.regularize = regularize\n",
    "        self.α = α\n",
    "        self.parameters = {}\n",
    "\n",
    "    def fit(self, X, y, θ):\n",
    "        for c in self.classes:\n",
    "            opt_weights = fmin_tnc(func=self.cost_fn, x0=θ, \n",
    "                                   fprime=self.gradient, \n",
    "                                   args=(X, (y == c).astype('int').flatten()))\n",
    "            self.parameters[c] = opt_weights[0]\n",
    "        return self.parameters\n",
    "    \n",
    "    def sigmoid(self, θ, X):\n",
    "        z = X @ θ\n",
    "        return  1 / (1 + np.exp(-z))\n",
    "    \n",
    "    def cost_fn(self, θ, X, y):\n",
    "        m = X.shape[0]\n",
    "        h = self.sigmoid(θ, X)\n",
    "        y_equel_1 = np.transpose(-y) @ np.log(h)\n",
    "        y_equel_0 = np.transpose((1 - y)) @ np.log(1 - h)\n",
    "        if self.regularize == True:   \n",
    "            regularization = (self.α / 2 * m) * (θ[1:] ** 2).sum()\n",
    "        else: \n",
    "            regularization = 0\n",
    "        return  (1 / m) * (y_equel_1 - y_equel_0) + regularization\n",
    "\n",
    "    def gradient(self, θ, X, y):\n",
    "        m = X.shape[0]\n",
    "        \n",
    "        g = self.sigmoid(θ, X)\n",
    "        gred = np.array(θ.shape)\n",
    "        if self.regularize == True:   \n",
    "            regularization = (self.α / 2 * m) * θ\n",
    "            regularization = regularization.reshape(θ.shape)\n",
    "        else: \n",
    "            regularization = 0\n",
    "        return np.append(\n",
    "            [( 1 / m ) * (g - y).sum()], \n",
    "            (( 1 / m ) * np.transpose(X) @ (g - y) + regularization)[1:], \n",
    "            axis=0)\n",
    "    \n",
    "    def predict(self, X):\n",
    "        if (len(self.parameters) != 0):\n",
    "            y_predicted  = np.empty((X.shape[0], 0))\n",
    "            for c in self.classes:\n",
    "                h = self.sigmoid(self.parameters[c], X)\n",
    "                y_predicted = np.append(y_predicted, h.reshape([h.shape[0], 1]),  axis=1)\n",
    "            predicted_class = np.argwhere(y_predicted == np.amax(y_predicted,1, keepdims=True))[:, 1:] \n",
    "            y_predicted = np.append(y_predicted, predicted_class.reshape([predicted_class.shape[0], 1]),  axis=1)\n",
    "            return y_predicted\n",
    "        else:\n",
    "            raise Exception(\"Fit the model first!\")"
   ]
  },
  {
   "cell_type": "markdown",
   "metadata": {},
   "source": [
    "## Recognition hand-written digits "
   ]
  },
  {
   "cell_type": "code",
   "execution_count": 6,
   "metadata": {},
   "outputs": [],
   "source": [
    "raw = sio.loadmat('static/datasets/handwritten-numbers/ex3data1.mat')\n",
    "theta = sio.loadmat('static/datasets/handwritten-numbers/ex3weights.mat')"
   ]
  },
  {
   "cell_type": "code",
   "execution_count": 8,
   "metadata": {},
   "outputs": [],
   "source": [
    "data = np.concatenate((raw['X'], raw['y']), axis=1)\n",
    "np.random.shuffle(data)\n",
    "X = data[:, :-1]\n",
    "X = np.concatenate((np.ones((X.shape[0], 1)), X), axis=1) \n",
    "y = data[:, [-1]] - 1"
   ]
  },
  {
   "cell_type": "code",
   "execution_count": 9,
   "metadata": {},
   "outputs": [],
   "source": [
    "train_set_count = int(X.shape[0] * .75)\n",
    "\n",
    "train_X, test_X = np.split(X, [int(X.shape[0] * .75)])\n",
    "train_y, test_y = np.split(y, [int(y.shape[0] * .75)])\n",
    "θ = np.zeros([X.shape[1], 1])"
   ]
  },
  {
   "cell_type": "code",
   "execution_count": 11,
   "metadata": {},
   "outputs": [],
   "source": [
    "model = MultiClassLogisticRegression(list(range(0, 10)))\n",
    "params = model.fit(train_X, train_y, θ)"
   ]
  },
  {
   "cell_type": "code",
   "execution_count": 12,
   "metadata": {},
   "outputs": [
    {
     "name": "stdout",
     "output_type": "stream",
     "text": [
      "Accuracy on training data: 0.8842666666666666\n"
     ]
    }
   ],
   "source": [
    "prediction = model.predict(train_X)\n",
    "print(f\"Accuracy on training data: {get_accuracy(prediction[:, [-1]], train_y)}\")"
   ]
  },
  {
   "cell_type": "code",
   "execution_count": 13,
   "metadata": {},
   "outputs": [
    {
     "name": "stdout",
     "output_type": "stream",
     "text": [
      "Accuracy on testing data: 0.8872\n"
     ]
    }
   ],
   "source": [
    "prediction = model.predict(test_X)\n",
    "print(f\"Accuracy on testing data: {get_accuracy(prediction[:, [-1]], test_y)}\")"
   ]
  },
  {
   "cell_type": "code",
   "execution_count": 14,
   "metadata": {},
   "outputs": [
    {
     "name": "stdout",
     "output_type": "stream",
     "text": [
      "[0.14476821 0.01206401 0.04543494 0.16711378 0.21707038 0.05259128\n",
      " 0.04970555 0.04149952 0.01731112 0.07338683 4.        ]\n",
      "5.0\n"
     ]
    },
    {
     "data": {
      "image/png": "[encoded data removed]",
      "text/plain": [
       "<Figure size 432x288 with 1 Axes>"
      ]
     },
     "metadata": {
      "needs_background": "light"
     },
     "output_type": "display_data"
    }
   ],
   "source": [
    "for i in range(0, 10):\n",
    "    clear_output(wait=True)\n",
    "    plt.gray()\n",
    "    plt.imshow(test_X[i, 1:].reshape(20, 20))\n",
    "    print(prediction[i])\n",
    "    print(prediction[i, -1] + 1)\n",
    "    plt.show()\n",
    "    time.sleep(1.5)"
   ]
  }
 ],
 "metadata": {
  "kernelspec": {
   "display_name": "twitter_sentiment",
   "language": "python",
   "name": "twitter_sentiment"
  },
  "language_info": {
   "codemirror_mode": {
    "name": "ipython",
    "version": 3
   },
   "file_extension": ".py",
   "mimetype": "text/x-python",
   "name": "python",
   "nbconvert_exporter": "python",
   "pygments_lexer": "ipython3",
   "version": "3.8.5"
  }
 },
 "nbformat": 4,
 "nbformat_minor": 4
}
