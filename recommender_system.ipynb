{
 "cells": [
  {
   "cell_type": "code",
   "execution_count": 1,
   "metadata": {},
   "outputs": [],
   "source": [
    "import numpy as np\n",
    "import matplotlib.pyplot as plt\n",
    "from IPython.display import clear_output\n",
    "import scipy.io as sio\n",
    "import scipy.optimize as opt"
   ]
  },
  {
   "cell_type": "code",
   "execution_count": 2,
   "metadata": {},
   "outputs": [],
   "source": [
    "#Utilities\n",
    "def fold(*arg):\n",
    "    return np.concatenate([arr.ravel() for arr in arg])\n",
    "\n",
    "def unfold(params, num_users, num_movies, num_features):\n",
    "    X = params[:num_movies * num_features].reshape(num_movies, num_features)\n",
    "    Theta = params[num_movies * num_features:].reshape(num_users, num_features)\n",
    "    return X, Theta"
   ]
  },
  {
   "cell_type": "markdown",
   "metadata": {},
   "source": [
    "![Alt text](static/img/collaborative_filtering_cost.png)"
   ]
  },
  {
   "cell_type": "code",
   "execution_count": 3,
   "metadata": {},
   "outputs": [],
   "source": [
    "def cost_fn(params, Y, R, num_users, num_movies, num_features, lmbda=0.0):\n",
    "    \"\"\"\n",
    "    Collaborative filtering cost function.\n",
    "    \n",
    "    Parameters\n",
    "    ----------\n",
    "    params : array_like\n",
    "        The parameters which will be optimized. This is a one\n",
    "        dimensional vector of shape (num_movies x num_users, 1). It is the \n",
    "        concatenation of the feature vectors X and parameters Theta.\n",
    "    \n",
    "    Y : array_like\n",
    "        A matrix of shape (num_movies x num_users) of user ratings of movies.\n",
    "    \n",
    "    R : array_like\n",
    "        A (num_movies x num_users) matrix, where R[i, j] = 1 if the \n",
    "        i-th movie was rated by the j-th user.\n",
    "    \n",
    "    num_users : int\n",
    "        Total number of users.\n",
    "    \n",
    "    num_movies : int\n",
    "        Total number of movies.\n",
    "    \n",
    "    num_features : int\n",
    "        Number of features to learn.\n",
    "    \n",
    "    lambda_ : float, optional\n",
    "        The regularization coefficient.\n",
    "    \n",
    "    Returns\n",
    "    -------\n",
    "    J : float\n",
    "        The value of the cost function at the given params.\n",
    "    \"\"\"\n",
    "    X, Theta  = unfold(params, num_users, num_movies, num_features)\n",
    "    regularization = (.5 * lmbda) * ((Theta ** 2).sum() + (X ** 2).sum())  \n",
    "    J = .5 * (((X @ Theta.T - Y) * R) ** 2).sum() + regularization\n",
    "    return J"
   ]
  },
  {
   "cell_type": "markdown",
   "metadata": {},
   "source": [
    "![Alt text](static/img/collaborative_filtering_gradient.png)"
   ]
  },
  {
   "cell_type": "code",
   "execution_count": 4,
   "metadata": {},
   "outputs": [],
   "source": [
    "def gradient(params, Y, R, num_users, num_movies, num_features, lmbda=0.0):\n",
    "    \"\"\"\n",
    "    Gradient for collaborative filtering cost function\n",
    "    \n",
    "    Parameters\n",
    "    ----------\n",
    "    params : array_like\n",
    "        The parameters which will be optimized. This is a one\n",
    "        dimensional vector of shape (num_movies x num_users, 1). It is the \n",
    "        concatenation of the feature vectors X and parameters Theta.\n",
    "    \n",
    "    Y : array_like\n",
    "        A matrix of shape (num_movies x num_users) of user ratings of movies.\n",
    "    \n",
    "    R : array_like\n",
    "        A (num_movies x num_users) matrix, where R[i, j] = 1 if the \n",
    "        i-th movie was rated by the j-th user.\n",
    "    \n",
    "    num_users : int\n",
    "        Total number of users.\n",
    "    \n",
    "    num_movies : int\n",
    "        Total number of movies.\n",
    "    \n",
    "    num_features : int\n",
    "        Number of features to learn.\n",
    "    \n",
    "    lambda_ : float, optional\n",
    "        The regularization coefficient.\n",
    "    \n",
    "    Returns\n",
    "    -------\n",
    "    grad : array_like\n",
    "        The gradient vector of the cost function at the given params.\n",
    "        grad has a shape (num_movies x num_users, 1)\n",
    "    \"\"\"\n",
    "    X, Theta  = unfold(params, num_users, num_movies, num_features)\n",
    "    \n",
    "    error = (X @ Theta.T - Y) * R\n",
    "    \n",
    "    X_grad  = error @ Theta + lmbda * X\n",
    "    Theta_grad  = error.T @ X + lmbda * Theta\n",
    "    return fold(X_grad, Theta_grad)"
   ]
  },
  {
   "cell_type": "code",
   "execution_count": 5,
   "metadata": {},
   "outputs": [],
   "source": [
    "def normalizeRatings(Y, R):\n",
    "    \"\"\"\n",
    "    Preprocess data by subtracting mean rating for every movie (every row).\n",
    "    Parameters\n",
    "    ----------\n",
    "    Y : array_like\n",
    "        The user ratings for all movies. A matrix of shape (num_movies x num_users).\n",
    "    R : array_like\n",
    "        Indicator matrix for movies rated by users. A matrix of shape (num_movies x num_users).\n",
    "    Returns\n",
    "    -------\n",
    "    Ynorm : array_like\n",
    "        A matrix of same shape as Y, after mean normalization.\n",
    "    Ymean : array_like\n",
    "        A vector of shape (num_movies, ) containing the mean rating for each movie.\n",
    "    \"\"\"\n",
    "    m, n = Y.shape\n",
    "    Ymean = np.zeros(m)\n",
    "    Ynorm = np.zeros(Y.shape)\n",
    "\n",
    "    for i in range(m):\n",
    "        idx = R[i, :] == 1\n",
    "        Ymean[i] = np.mean(Y[i, idx])\n",
    "        Ynorm[i, idx] = Y[i, idx] - Ymean[i]\n",
    "\n",
    "    return Ynorm, Ymean"
   ]
  },
  {
   "cell_type": "code",
   "execution_count": 6,
   "metadata": {},
   "outputs": [],
   "source": [
    "# Data preparation\n",
    "data = sio.loadmat('static/datasets/anomaly/ex8_movies.mat')\n",
    "Y, R = data['Y'], data['R']"
   ]
  },
  {
   "cell_type": "code",
   "execution_count": 8,
   "metadata": {},
   "outputs": [],
   "source": [
    "# creating movies list\n",
    "with open('static/datasets/anomaly/movie_ids.txt') as f:\n",
    "    movies = f.readlines()\n",
    "\n",
    "movie_names = []    \n",
    "for movie in movies:\n",
    "    movie = ' '.join(movie[:-1].split()[1:])\n",
    "    movie_names.append(movie)"
   ]
  },
  {
   "cell_type": "code",
   "execution_count": 9,
   "metadata": {},
   "outputs": [
    {
     "name": "stdout",
     "output_type": "stream",
     "text": [
      "New user ratings:\n",
      "-----------------\n",
      "Rated 4.0 stars: Toy Story (1995)\n",
      "Rated 3.0 stars: Twelve Monkeys (1995)\n",
      "Rated 5.0 stars: Usual Suspects, The (1995)\n",
      "Rated 4.0 stars: Outbreak (1995)\n",
      "Rated 5.0 stars: Shawshank Redemption, The (1994)\n",
      "Rated 3.0 stars: While You Were Sleeping (1995)\n",
      "Rated 5.0 stars: Forrest Gump (1994)\n",
      "Rated 2.0 stars: Silence of the Lambs, The (1991)\n",
      "Rated 4.0 stars: Alien (1979)\n",
      "Rated 5.0 stars: Die Hard 2 (1990)\n",
      "Rated 5.0 stars: Sphere (1998)\n"
     ]
    }
   ],
   "source": [
    "my_ratings = np.zeros(len(movie_names))\n",
    "\n",
    "my_ratings[0] = 4\n",
    "my_ratings[97] = 2\n",
    "my_ratings[6] = 3\n",
    "my_ratings[11]= 5\n",
    "my_ratings[53] = 4\n",
    "my_ratings[63] = 5\n",
    "my_ratings[65] = 3\n",
    "my_ratings[68] = 5\n",
    "my_ratings[182] = 4\n",
    "my_ratings[225] = 5\n",
    "my_ratings[354] = 5\n",
    "\n",
    "print('New user ratings:')\n",
    "print('-----------------')\n",
    "for i in range(len(my_ratings)):\n",
    "    if my_ratings[i] > 0:\n",
    "        print(f'Rated {my_ratings[i]} stars: {movie_names[i]}')"
   ]
  },
  {
   "cell_type": "code",
   "execution_count": 10,
   "metadata": {},
   "outputs": [
    {
     "name": "stdout",
     "output_type": "stream",
     "text": [
      "     fun: 38964.467859979704\n",
      "     jac: array([-1.26009187e-05, -1.69577337e-07, -5.41634800e-06, ...,\n",
      "       -6.88409481e-08,  6.59058097e-07,  1.24555160e-07])\n",
      " message: 'Converged (|f_n-f_(n-1)| ~= 0)'\n",
      "    nfev: 490\n",
      "     nit: 39\n",
      "  status: 1\n",
      " success: True\n",
      "       x: array([-0.92239008,  0.67312521, -0.06237038, ...,  0.45189284,\n",
      "       -0.82026653, -0.07700912])\n"
     ]
    }
   ],
   "source": [
    "Y = np.hstack([my_ratings[:, None], Y])\n",
    "R = np.hstack([(my_ratings > 0)[:, None], R])\n",
    "\n",
    "#  Normalize Ratings\n",
    "Ynorm, Ymean = normalizeRatings(Y, R)\n",
    "\n",
    "#  Useful Values\n",
    "num_movies, num_users = Y.shape\n",
    "num_features = 10\n",
    "\n",
    "# Set Initial Parameters (Theta, X)\n",
    "X = np.random.randn(num_movies, num_features)\n",
    "Theta = np.random.randn(num_users, num_features)\n",
    "\n",
    "initial_parameters = fold(X, Theta)\n",
    "\n",
    "# Set Regularization\n",
    "lmdba = 10\n",
    "res = opt.minimize( fun=cost_fn,\n",
    "                    x0=initial_parameters,\n",
    "                    jac=gradient,\n",
    "                    args=(Ynorm, R, num_users, num_movies, num_features, lmdba),\n",
    "                    method='TNC'\n",
    "                  )\n",
    "print(res)\n",
    "X, Theta = unfold(res.x, num_users, num_movies, num_features)"
   ]
  },
  {
   "cell_type": "code",
   "execution_count": 11,
   "metadata": {},
   "outputs": [
    {
     "name": "stdout",
     "output_type": "stream",
     "text": [
      "Top recommendations for you:\n",
      "----------------------------\n",
      "Predicting rating 5.0 for movie Prefontaine (1997)\n",
      "Predicting rating 5.0 for movie Someone Else's America (1995)\n",
      "Predicting rating 5.0 for movie They Made Me a Criminal (1939)\n",
      "Predicting rating 5.0 for movie Santa with Muscles (1996)\n",
      "Predicting rating 5.0 for movie Entertaining Angels: The Dorothy Day Story (1996)\n",
      "Predicting rating 5.0 for movie Marlene Dietrich: Shadow and Light (1996)\n",
      "Predicting rating 5.0 for movie Aiqing wansui (1994)\n",
      "Predicting rating 5.0 for movie Great Day in Harlem, A (1994)\n",
      "Predicting rating 5.0 for movie Saint of Fort Washington, The (1993)\n",
      "Predicting rating 5.0 for movie Star Kid (1997)\n",
      "\n",
      "Original ratings provided:\n",
      "--------------------------\n",
      "Rated 4.0 for Toy Story (1995)\n",
      "Rated 3.0 for Twelve Monkeys (1995)\n",
      "Rated 5.0 for Usual Suspects, The (1995)\n",
      "Rated 4.0 for Outbreak (1995)\n",
      "Rated 5.0 for Shawshank Redemption, The (1994)\n",
      "Rated 3.0 for While You Were Sleeping (1995)\n",
      "Rated 5.0 for Forrest Gump (1994)\n",
      "Rated 2.0 for Silence of the Lambs, The (1991)\n",
      "Rated 4.0 for Alien (1979)\n",
      "Rated 5.0 for Die Hard 2 (1990)\n",
      "Rated 5.0 for Sphere (1998)\n"
     ]
    }
   ],
   "source": [
    "p = np.dot(X, Theta.T)\n",
    "my_predictions = p[:, 0] + Ymean\n",
    "\n",
    "ix = np.argsort(my_predictions)[::-1]\n",
    "\n",
    "print('Top recommendations for you:')\n",
    "print('----------------------------')\n",
    "for i in range(10):\n",
    "    j = ix[i]\n",
    "    print(f'Predicting rating {round(my_predictions[j], 2)} for movie {movie_names[j]}')\n",
    "\n",
    "print('\\nOriginal ratings provided:')\n",
    "print('--------------------------')\n",
    "for i in range(len(my_ratings)):\n",
    "    if my_ratings[i] > 0:\n",
    "        print(f'Rated {my_ratings[i]} for {movie_names[i]}')"
   ]
  },
  {
   "cell_type": "code",
   "execution_count": 39,
   "metadata": {},
   "outputs": [],
   "source": [
    "rang =  range(10)"
   ]
  },
  {
   "cell_type": "code",
   "execution_count": 42,
   "metadata": {},
   "outputs": [
    {
     "name": "stdout",
     "output_type": "stream",
     "text": [
      "0\n",
      "1\n",
      "Oops!\n",
      "0\n",
      "1\n",
      "Oops!\n",
      "0\n",
      "1\n",
      "Oops!\n",
      "0\n",
      "1\n",
      "Oops!\n"
     ]
    }
   ],
   "source": [
    "try_counter = 0\n",
    "\n",
    "while True:\n",
    "    try:\n",
    "        if try_counter == 4:\n",
    "            break\n",
    "        for page in rang:\n",
    "            if page == 2:\n",
    "                raise ValueError('sda') \n",
    "            print(page)\n",
    "        break\n",
    "\n",
    "    except ValueError:\n",
    "        try_counter += 1  \n",
    "        print('Oops!')\n",
    "#         time.sleep(120)"
   ]
  },
  {
   "cell_type": "code",
   "execution_count": null,
   "metadata": {},
   "outputs": [],
   "source": []
  }
 ],
 "metadata": {
  "kernelspec": {
   "display_name": "twitter_sentiment",
   "language": "python",
   "name": "twitter_sentiment"
  },
  "language_info": {
   "codemirror_mode": {
    "name": "ipython",
    "version": 3
   },
   "file_extension": ".py",
   "mimetype": "text/x-python",
   "name": "python",
   "nbconvert_exporter": "python",
   "pygments_lexer": "ipython3",
   "version": "3.8.5"
  }
 },
 "nbformat": 4,
 "nbformat_minor": 4
}
