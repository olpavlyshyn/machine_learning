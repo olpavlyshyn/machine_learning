{
 "cells": [
  {
   "cell_type": "code",
   "execution_count": 1,
   "metadata": {},
   "outputs": [],
   "source": [
    "import numpy as np\n",
    "import matplotlib.pyplot as plt\n",
    "from IPython.display import clear_output\n",
    "import scipy.io as sio\n",
    "import scipy.optimize as opt"
   ]
  },
  {
   "cell_type": "code",
   "execution_count": 2,
   "metadata": {},
   "outputs": [],
   "source": [
    "data = sio.loadmat('static/datasets/email/ex6data1.mat')"
   ]
  },
  {
   "cell_type": "code",
   "execution_count": 35,
   "metadata": {},
   "outputs": [],
   "source": [
    "X, y = data['X'], data['y']"
   ]
  },
  {
   "cell_type": "code",
   "execution_count": 39,
   "metadata": {},
   "outputs": [
    {
     "data": {
      "text/plain": [
       "[<matplotlib.lines.Line2D at 0x1b6782c1820>]"
      ]
     },
     "execution_count": 39,
     "metadata": {},
     "output_type": "execute_result"
    },
    {
     "data": {
      "image/png": "[encoded data removed]",
      "text/plain": [
       "<Figure size 432x288 with 1 Axes>"
      ]
     },
     "metadata": {
      "needs_background": "light"
     },
     "output_type": "display_data"
    }
   ],
   "source": [
    "plot_data = np.concatenate((X, y), axis=1)\n",
    "first_class = plot_data[plot_data[:,2] == 1]\n",
    "second_class = plot_data[plot_data[:,2] == 0]\n",
    "plt.plot(second_class[:, 0], second_class[:, 1], 'o')\n",
    "plt.plot(first_class[:, 0], first_class[:, 1], 'x', color='red')"
   ]
  },
  {
   "cell_type": "code",
   "execution_count": 40,
   "metadata": {},
   "outputs": [],
   "source": [
    "def svmTrain(X, Y, C, kernelFunction, tol=1e-3, max_passes=5, args=()):\n",
    "    \"\"\"\n",
    "    Trains an SVM classifier using a  simplified version of the SMO algorithm.\n",
    "    Parameters\n",
    "    ---------\n",
    "    X : numpy ndarray\n",
    "        (m x n) Matrix of training examples. Each row is a training example, and the\n",
    "        jth column holds the jth feature.\n",
    "    Y : numpy ndarray\n",
    "        (m, ) A vector (1-D numpy array) containing 1 for positive examples and 0 for negative examples.\n",
    "    C : float\n",
    "        The standard SVM regularization parameter.\n",
    "    kernelFunction : func\n",
    "        A function handle which computes the kernel. The function should accept two vectors as\n",
    "        inputs, and returns a scalar as output.\n",
    "    tol : float, optional\n",
    "        Tolerance value used for determining equality of floating point numbers.\n",
    "    max_passes : int, optional\n",
    "        Controls the number of iterations over the dataset (without changes to alpha)\n",
    "        before the algorithm quits.\n",
    "    args : tuple\n",
    "        Extra arguments required for the kernel function, such as the sigma parameter for a\n",
    "        Gaussian kernel.\n",
    "    Returns\n",
    "    -------\n",
    "    model :\n",
    "        The trained SVM model.\n",
    "    Notes\n",
    "    -----\n",
    "    This is a simplified version of the SMO algorithm for training SVMs. In practice, if\n",
    "    you want to train an SVM classifier, we recommend using an optimized package such as:\n",
    "    - LIBSVM   (http://www.csie.ntu.edu.tw/~cjlin/libsvm/)\n",
    "    - SVMLight (http://svmlight.joachims.org/)\n",
    "    - scikit-learn (http://scikit-learn.org/stable/modules/svm.html) which contains python wrappers\n",
    "    for the LIBSVM library.\n",
    "    \"\"\"\n",
    "    # make sure data is signed int\n",
    "    Y = Y.astype(int)\n",
    "    # Dataset size parameters\n",
    "    m, n = X.shape\n",
    "\n",
    "    passes = 0\n",
    "    E = np.zeros(m)\n",
    "    alphas = np.zeros(m)\n",
    "    b = 0\n",
    "\n",
    "    # Map 0 to -1\n",
    "    Y[Y == 0] = -1\n",
    "\n",
    "    # Pre-compute the Kernel Matrix since our dataset is small\n",
    "    # (in practice, optimized SVM packages that handle large datasets\n",
    "    # gracefully will **not** do this)\n",
    "\n",
    "    # We have implemented the optimized vectorized version of the Kernels here so\n",
    "    # that the SVM training will run faster\n",
    "    if kernelFunction.__name__ == 'linearKernel':\n",
    "        # Vectorized computation for the linear kernel\n",
    "        # This is equivalent to computing the kernel on every pair of examples\n",
    "        K = np.dot(X, X.T)\n",
    "    elif kernelFunction.__name__ == 'gaussianKernel':\n",
    "        # vectorized RBF Kernel\n",
    "        # This is equivalent to computing the kernel on every pair of examples\n",
    "        X2 = np.sum(X**2, axis=1)\n",
    "        K = X2 + X2[:, None] - 2 * np.dot(X, X.T)\n",
    "\n",
    "        if len(args) > 0:\n",
    "            K /= 2*args[0]**2\n",
    "\n",
    "        K = np.exp(-K)\n",
    "    else:\n",
    "        K = np.zeros((m, m))\n",
    "        for i in range(m):\n",
    "            for j in range(i, m):\n",
    "                K[i, j] = kernelFunction(X[i, :], X[j, :])\n",
    "                K[j, i] = K[i, j]\n",
    "\n",
    "    while passes < max_passes:\n",
    "        num_changed_alphas = 0\n",
    "        for i in range(m):\n",
    "            E[i] = b + np.sum(alphas * Y * K[:, i]) - Y[i]\n",
    "\n",
    "            if (Y[i]*E[i] < -tol and alphas[i] < C) or (Y[i]*E[i] > tol and alphas[i] > 0):\n",
    "                # select the alpha_j randomly\n",
    "                j = np.random.choice(list(range(i)) + list(range(i+1, m)), size=1)[0]\n",
    "\n",
    "                E[j] = b + np.sum(alphas * Y * K[:, j]) - Y[j]\n",
    "\n",
    "                alpha_i_old = alphas[i]\n",
    "                alpha_j_old = alphas[j]\n",
    "\n",
    "                if Y[i] == Y[j]:\n",
    "                    L = max(0, alphas[j] + alphas[i] - C)\n",
    "                    H = min(C, alphas[j] + alphas[i])\n",
    "                else:\n",
    "                    L = max(0, alphas[j] - alphas[i])\n",
    "                    H = min(C, C + alphas[j] - alphas[i])\n",
    "\n",
    "                if L == H:\n",
    "                    continue\n",
    "\n",
    "                eta = 2 * K[i, j] - K[i, i] - K[j, j]\n",
    "\n",
    "                # objective function positive definite, there will be a minimum along the direction\n",
    "                # of linear equality constrain, and eta will be greater than zero\n",
    "                # we are actually computing -eta here (so we skip of eta >= 0)\n",
    "                if eta >= 0:\n",
    "                    continue\n",
    "\n",
    "                alphas[j] -= Y[j] * (E[i] - E[j])/eta\n",
    "                alphas[j] = max(L, min(H, alphas[j]))\n",
    "\n",
    "                if abs(alphas[j] - alpha_j_old) < tol:\n",
    "                    alphas[j] = alpha_j_old\n",
    "                    continue\n",
    "                alphas[i] += Y[i]*Y[j]*(alpha_j_old - alphas[j])\n",
    "\n",
    "                b1 = b - E[i] - Y[i]*(alphas[i] - alpha_i_old) * K[i, j] \\\n",
    "                     - Y[j] * (alphas[j] - alpha_j_old) * K[i, j]\n",
    "\n",
    "                b2 = b - E[j] - Y[i]*(alphas[i] - alpha_i_old) * K[i, j] \\\n",
    "                     - Y[j] * (alphas[j] - alpha_j_old) * K[j, j]\n",
    "\n",
    "                if 0 < alphas[i] < C:\n",
    "                    b = b1\n",
    "                elif 0 < alphas[j] < C:\n",
    "                    b = b2\n",
    "                else:\n",
    "                    b = (b1 + b2)/2\n",
    "\n",
    "                num_changed_alphas += 1\n",
    "        if num_changed_alphas == 0:\n",
    "            passes += 1\n",
    "        else:\n",
    "            passes = 0\n",
    "\n",
    "    idx = alphas > 0\n",
    "    model = {'X': X[idx, :],\n",
    "             'y': Y[idx],\n",
    "             'kernelFunction': kernelFunction,\n",
    "             'b': b,\n",
    "             'args': args,\n",
    "             'alphas': alphas[idx],\n",
    "             'w': np.dot(alphas * Y, X)}\n",
    "    return model"
   ]
  },
  {
   "cell_type": "code",
   "execution_count": 41,
   "metadata": {},
   "outputs": [],
   "source": [
    "def linearKernel(x1, x2):\n",
    "    \"\"\"\n",
    "    Returns a linear kernel between x1 and x2.\n",
    "    Parameters\n",
    "    ----------\n",
    "    x1 : numpy ndarray\n",
    "        A 1-D vector.\n",
    "    x2 : numpy ndarray\n",
    "        A 1-D vector of same size as x1.\n",
    "    Returns\n",
    "    -------\n",
    "    : float\n",
    "        The scalar amplitude.\n",
    "    \"\"\"\n",
    "    return np.dot(x1, x2)"
   ]
  },
  {
   "cell_type": "code",
   "execution_count": 50,
   "metadata": {},
   "outputs": [],
   "source": [
    "def visualizeBoundaryLinear(X, y, model):\n",
    "    \"\"\"\n",
    "    Plots a linear decision boundary learned by the SVM.\n",
    "    Parameters\n",
    "    ----------\n",
    "    X : array_like\n",
    "        (m x 2) The training data with two features (to plot in a 2-D plane).\n",
    "    y : array_like\n",
    "        (m, ) The data labels.\n",
    "    model : dict\n",
    "        Dictionary of model variables learned by SVM.\n",
    "    \"\"\"\n",
    "    w, b = model['w'], model['b']\n",
    "    xp = np.linspace(min(X[:, 0]), max(X[:, 0]), 100)\n",
    "    yp = -(w[0] * xp + b)/w[1]\n",
    "\n",
    "    plotData(X, y)\n",
    "    pyplot.plot(xp, yp, '-b')"
   ]
  },
  {
   "cell_type": "code",
   "execution_count": 55,
   "metadata": {},
   "outputs": [
    {
     "data": {
      "text/plain": [
       "['__annotations__',\n",
       " '__call__',\n",
       " '__class__',\n",
       " '__closure__',\n",
       " '__code__',\n",
       " '__defaults__',\n",
       " '__delattr__',\n",
       " '__dict__',\n",
       " '__dir__',\n",
       " '__doc__',\n",
       " '__eq__',\n",
       " '__format__',\n",
       " '__ge__',\n",
       " '__get__',\n",
       " '__getattribute__',\n",
       " '__globals__',\n",
       " '__gt__',\n",
       " '__hash__',\n",
       " '__init__',\n",
       " '__init_subclass__',\n",
       " '__kwdefaults__',\n",
       " '__le__',\n",
       " '__lt__',\n",
       " '__module__',\n",
       " '__name__',\n",
       " '__ne__',\n",
       " '__new__',\n",
       " '__qualname__',\n",
       " '__reduce__',\n",
       " '__reduce_ex__',\n",
       " '__repr__',\n",
       " '__setattr__',\n",
       " '__sizeof__',\n",
       " '__str__',\n",
       " '__subclasshook__']"
      ]
     },
     "execution_count": 55,
     "metadata": {},
     "output_type": "execute_result"
    }
   ],
   "source": [
    "dir(linearKernel)"
   ]
  }
 ],
 "metadata": {
  "kernelspec": {
   "display_name": "twitter_sentiment",
   "language": "python",
   "name": "twitter_sentiment"
  },
  "language_info": {
   "codemirror_mode": {
    "name": "ipython",
    "version": 3
   },
   "file_extension": ".py",
   "mimetype": "text/x-python",
   "name": "python",
   "nbconvert_exporter": "python",
   "pygments_lexer": "ipython3",
   "version": "3.8.5"
  }
 },
 "nbformat": 4,
 "nbformat_minor": 4
}
